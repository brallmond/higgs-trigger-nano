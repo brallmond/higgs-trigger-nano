{
 "cells": [
  {
   "cell_type": "code",
   "execution_count": 1,
   "metadata": {},
   "outputs": [
    {
     "data": {
      "text/html": [
       "<style>.container { width:100% !important; }</style>"
      ],
      "text/plain": [
       "<IPython.core.display.HTML object>"
      ]
     },
     "metadata": {},
     "output_type": "display_data"
    }
   ],
   "source": [
    "# Fit notebook to browser window\n",
    "from IPython.core.display import display, HTML\n",
    "display(HTML(\"<style>.container { width:100% !important; }</style>\"))"
   ]
  },
  {
   "cell_type": "code",
   "execution_count": 2,
   "metadata": {},
   "outputs": [
    {
     "name": "stdout",
     "output_type": "stream",
     "text": [
      "Welcome to JupyROOT 6.22/02\n"
     ]
    }
   ],
   "source": [
    "import ROOT\n",
    "import math \n",
    "import time\n",
    "import os\n",
    "import numpy as np\n",
    "from array import array\n",
    "import uproot\n",
    "import pandas as pd"
   ]
  },
  {
   "cell_type": "code",
   "execution_count": 3,
   "metadata": {},
   "outputs": [],
   "source": [
    "# Get input TTree\n",
    "dir_in = '/grid_mnt/vol_home/llr/cms/portales/HIGtrigger/higgs-trigger-nanoaod/CMSSW_10_6_18/src/higgs-trigger-nanoaod/VBFparking_scripts/'\n",
    "\n",
    "DFs = {}\n",
    "\n",
    "file_in = dir_in + 'histos_24B_Muon.v1.root'\n",
    "the_tree = uproot.open(file_in)['VBFNanoAOD/VBFtree']\n",
    "df = ROOT.RDataFrame('VBFNanoAOD/VBFtree',file_in)\n",
    "\n",
    "DFs['24B'] = df\n",
    "\n",
    "\n",
    "file_in2 = dir_in + 'outputs/Run23all_VBFall.fixL1.root'\n",
    "the_tree2 = uproot.open(file_in2)['VBFNanoAOD/VBFtree']\n",
    "df2 = ROOT.RDataFrame('VBFNanoAOD/VBFtree',file_in2)\n",
    "\n",
    "DFs['23all'] = df2\n",
    "\n",
    "\n"
   ]
  },
  {
   "cell_type": "code",
   "execution_count": 4,
   "metadata": {},
   "outputs": [
    {
     "data": {
      "text/plain": [
       "True"
      ]
     },
     "execution_count": 4,
     "metadata": {},
     "output_type": "execute_result"
    }
   ],
   "source": [
    "# highest mjj among all jet pairs (with pT>60 GeV, id tight) + additional variables for VBF jets\n",
    "ROOT.gInterpreter.Declare('''\n",
    "float get_VBF_var(TString var,\n",
    "                  ROOT::VecOps::RVec<Float_t> pt,\n",
    "                  ROOT::VecOps::RVec<Float_t> eta,\n",
    "                  ROOT::VecOps::RVec<Float_t> phi,\n",
    "                  ROOT::VecOps::RVec<Float_t> id,\n",
    "                  ROOT::VecOps::RVec<Float_t> chf,\n",
    "                  ROOT::VecOps::RVec<Float_t> rawfactor,\n",
    "                  Float_t pt1cut,\n",
    "                  Float_t pt2cut,\n",
    "                  Float_t idcut) {\n",
    "    \n",
    "    Double_t mjj      = -1;\n",
    "    Double_t detajj   = -1;\n",
    "    Double_t etabest  = -999;\n",
    "    Double_t etabest2 = -999;\n",
    "    Double_t ptbest  = -999;\n",
    "    Double_t ptbest2 = -999;\n",
    "    Double_t chfbest  = -1;\n",
    "    Double_t chfbest2 = -1;\n",
    "    \n",
    "    const auto size = pt.size();\n",
    "    for (size_t idx1=0; idx1<size; ++idx1){\n",
    "        for (size_t idx2=0; idx2<idx1; ++idx2){\n",
    "        \n",
    "            // VBF jets have to pass the ptcut2\n",
    "            if (pt[idx1]<pt2cut || pt[idx2]<pt2cut)\n",
    "                continue;\n",
    "                           \n",
    "            // in any case, we want tightly ID'd jets (just a safety, the condition should never be true)\n",
    "            if (id[idx1]<idcut || id[idx2]<idcut)\n",
    "                continue;\n",
    "\n",
    "            // if minimal selection applies, get the jets 4-vec\n",
    "            ROOT::Math::PtEtaPhiMVector p1(pt[idx1]*(1.-rawfactor[idx1]), eta[idx1], phi[idx1], 0.);\n",
    "            ROOT::Math::PtEtaPhiMVector p2(pt[idx2]*(1.-rawfactor[idx2]), eta[idx2], phi[idx2], 0.);\n",
    "            \n",
    "            // check if the pair has best mjj, if so store VBF jets quantities\n",
    "            if ((p1+p2).mass() > mjj) {\n",
    "                mjj      = (p1+p2).mass();\n",
    "                detajj   = abs(eta[idx1]-eta[idx2]);\n",
    "                etabest  = (p1.pt()>p2.pt()) ? p1.eta():p2.eta();\n",
    "                etabest2 = (p1.pt()>p2.pt()) ? p2.eta():p1.eta();\n",
    "                ptbest   = (p1.pt()>p2.pt()) ? p1.pt():p2.pt();\n",
    "                ptbest2  = (p1.pt()>p2.pt()) ? p2.pt():p1.pt();\n",
    "                chfbest  = (p1.pt()>p2.pt()) ? chf[idx1]:chf[idx2];\n",
    "                chfbest2 = (p1.pt()>p2.pt()) ? chf[idx2]:chf[idx1];\n",
    "            }\n",
    "        }\n",
    "    }\n",
    "    if (var==\"mjj\") \n",
    "        return mjj;\n",
    "    if (var==\"detajj\")\n",
    "        return detajj;\n",
    "    if (var==\"eta\")\n",
    "        return etabest;\n",
    "    if (var==\"eta2\")\n",
    "        return etabest2;\n",
    "    if (var==\"pt\")\n",
    "        return ptbest;\n",
    "    if (var==\"pt2\")\n",
    "        return ptbest2;\n",
    "    if (var==\"chf\")\n",
    "        return chfbest;\n",
    "    if (var==\"chf2\")\n",
    "        return chfbest2;\n",
    "        \n",
    "    return -999.;\n",
    "}\n",
    "'''\n",
    ")"
   ]
  },
  {
   "cell_type": "code",
   "execution_count": 5,
   "metadata": {},
   "outputs": [
    {
     "data": {
      "text/plain": [
       "True"
      ]
     },
     "execution_count": 5,
     "metadata": {},
     "output_type": "execute_result"
    }
   ],
   "source": [
    "# highest mjj among all jet pairs (with pT>60 GeV, id tight) + additional variables for VBF jets\n",
    "ROOT.gInterpreter.Declare('''\n",
    "float get_mjj_dumb(TString var,\n",
    "                  ROOT::VecOps::RVec<Float_t> pt,\n",
    "                  ROOT::VecOps::RVec<Float_t> eta,\n",
    "                  ROOT::VecOps::RVec<Float_t> phi) {\n",
    "    \n",
    "            ROOT::Math::PtEtaPhiMVector p1(pt[0], eta[0], phi[0], 0.);\n",
    "            ROOT::Math::PtEtaPhiMVector p2(pt[1], eta[1], phi[1], 0.);\n",
    "            return (p1+p2).mass();\n",
    "}\n",
    "'''\n",
    ")"
   ]
  },
  {
   "cell_type": "code",
   "execution_count": 6,
   "metadata": {},
   "outputs": [
    {
     "data": {
      "text/plain": [
       "True"
      ]
     },
     "execution_count": 6,
     "metadata": {},
     "output_type": "execute_result"
    }
   ],
   "source": [
    "# highest mjj among all jet pairs (with pT>60 GeV, id tight) + additional variables for VBF jets\n",
    "ROOT.gInterpreter.Declare('''\n",
    "bool pass_pt_cut(ROOT::VecOps::RVec<Float_t> pt,\n",
    "                  Float_t pt1cut,\n",
    "                  Float_t pt2cut,\n",
    "                  Bool_t nopt1cut,\n",
    "                  Bool_t nopt2cut) {\n",
    "        \n",
    "    Double_t mjj      = -1;\n",
    "    int idx_vbf1 = -1;\n",
    "    int idx_vbf2 = -1;\n",
    "    \n",
    "    if (pt[0]<pt1cut && !nopt1cut) // 1 jet with pT > ptcut1 (HLT logic)\n",
    "        return false;\n",
    "      \n",
    "    if (pt[1]<pt2cut && !nopt2cut) // 2 jets with pT > ptcut2 (HLT logic)\n",
    "        return false;\n",
    "    \n",
    "    return true;\n",
    "}\n",
    "'''\n",
    ")"
   ]
  },
  {
   "cell_type": "code",
   "execution_count": 14,
   "metadata": {},
   "outputs": [
    {
     "data": {
      "text/plain": [
       "True"
      ]
     },
     "execution_count": 14,
     "metadata": {},
     "output_type": "execute_result"
    }
   ],
   "source": [
    "# checking cuts to measure eff vs mjj\n",
    "ROOT.gInterpreter.Declare('''\n",
    "bool pass_VBF_cuts(TString plotvar,\n",
    "                   ROOT::VecOps::RVec<Float_t> pt,\n",
    "                   ROOT::VecOps::RVec<Float_t> eta,\n",
    "                   ROOT::VecOps::RVec<Float_t> phi,\n",
    "                   ROOT::VecOps::RVec<Float_t> id,\n",
    "                   ROOT::VecOps::RVec<Float_t> chf,\n",
    "                   Float_t pt1cut,\n",
    "                   Float_t pt2cut,\n",
    "                   Float_t mjjcut,\n",
    "                   Bool_t nopt1cut,\n",
    "                   Bool_t nopt2cut) {\n",
    "                   \n",
    "    Bool_t pass = true;\n",
    "    \n",
    "    // check pt cuts\n",
    "    pass = pass && (pass_pt_cut(pt,pt1cut,pt2cut,nopt1cut,nopt2cut) \n",
    "                    || plotvar==\"pt2\" || plotvar==\"pt1\");\n",
    "\n",
    "    // check mjj cut\n",
    "    pass = pass && (mjjcut < get_VBF_var(\"mjj\",pt,eta,phi,id,chf,chf,pt1cut,pt2cut,6)\n",
    "                    || plotvar==\"mjj\");\n",
    "\n",
    "\n",
    "    return pass;\n",
    "}\n",
    "''')"
   ]
  },
  {
   "cell_type": "code",
   "execution_count": 15,
   "metadata": {},
   "outputs": [],
   "source": [
    "def fill_eff(h_num, h_den, year,var,version):\n",
    "    eff = ROOT.TGraphAsymmErrors(h_num[year][var][version].GetValue(),\n",
    "                                 h_den[year][var].GetValue(),\n",
    "                                 'eff_{}'.format(var))\n",
    "    return eff\n",
    "\n",
    "\n",
    "def redrawBorder():\n",
    "    ROOT.gPad.Update()\n",
    "    ROOT.gPad.RedrawAxis()\n",
    "    l = ROOT.TLine()\n",
    "    l.SetLineWidth(2)\n",
    "    l.DrawLine(ROOT.gPad.GetUxmin(), ROOT.gPad.GetUymax(), ROOT.gPad.GetUxmax(), ROOT.gPad.GetUymax())\n",
    "    l.DrawLine(ROOT.gPad.GetUxmax(), ROOT.gPad.GetUymin(), ROOT.gPad.GetUxmax(), ROOT.gPad.GetUymax())\n",
    "    l.DrawLine(ROOT.gPad.GetUxmin(), ROOT.gPad.GetUymin(), ROOT.gPad.GetUxmin(), ROOT.gPad.GetUymax())\n",
    "    l.DrawLine(ROOT.gPad.GetUxmin(), ROOT.gPad.GetUymin(), ROOT.gPad.GetUxmax(), ROOT.gPad.GetUymin())\n",
    "\n",
    "def print_unique_runs(df):\n",
    "    df_runs = df.AsNumpy([\"run\"])\n",
    "    np.unique(df_runs['run'])\n",
    "    for run in np.unique(df_runs['run']):\n",
    "        print(run)"
   ]
  },
  {
   "cell_type": "code",
   "execution_count": 16,
   "metadata": {},
   "outputs": [],
   "source": [
    "#periods = [\"23C\",\"23D\",\"23all\"]\n",
    "#periods = [\"23all\",\"23mc\",'23C']\n",
    "#periods = [\"23mc\"]\n",
    "periods = [\"24B\"]\n",
    "\n",
    "#pt1cut = 125.\n",
    "#pt2cut = 50.\n",
    "#mjjcut = 1100.\n",
    "#detajjcut = 4.0\n",
    "\n",
    "pt1cut = 135.\n",
    "pt2cut = 60.\n",
    "mjjcut = 1500.\n",
    "\n",
    "idcut = 6\n",
    "\n",
    "df_mjj_all = {}\n",
    "\n",
    "# apply basic filter & evaluate variables\n",
    "for year in periods:\n",
    "    \n",
    "    # always apply pT requirement\n",
    "    cut_df = DFs[year]#.Filter('jets_pt[0]>{} && jets_pt[1]>{}'.format(pt1cut,pt2cut))\n",
    "    \n",
    "    \n",
    "    df_mjj_all[year] = cut_df\\\n",
    "                    .Define('mjj2',    'get_VBF_var( \"mjj\", jets_pt,jets_eta,jets_phi,jets_id,jets_CHF,jets_rawfactor,{},{},{})'.format(pt1cut,pt2cut,idcut))\\\n",
    "                    .Define('mjjdumb', 'get_mjj_dumb(\"\",jets_pt,jets_eta,jets_phi)')\\\n",
    "                    .Define('chfbest', 'get_VBF_var( \"chf\", jets_pt,jets_eta,jets_phi,jets_id,jets_CHF,jets_rawfactor,{},{},{})'.format(pt1cut,pt2cut,idcut))\\\n",
    "                    .Define('chfbest2','get_VBF_var( \"chf2\",jets_pt,jets_eta,jets_phi,jets_id,jets_CHF,jets_rawfactor,{},{},{})'.format(pt1cut,pt2cut,idcut))\\\n",
    "                    .Define('etabest', 'get_VBF_var( \"eta\", jets_pt,jets_eta,jets_phi,jets_id,jets_CHF,jets_rawfactor,{},{},{})'.format(pt1cut,pt2cut,idcut))\\\n",
    "                    .Define('etabest2','get_VBF_var( \"eta2\",jets_pt,jets_eta,jets_phi,jets_id,jets_CHF,jets_rawfactor,{},{},{})'.format(pt1cut,pt2cut,idcut))\\\n",
    "                    .Define('ptbest',  'get_VBF_var( \"pt\",  jets_pt,jets_eta,jets_phi,jets_id,jets_CHF,jets_rawfactor,{},{},{})'.format(pt1cut,pt2cut,idcut))\\\n",
    "                    .Define('ptbest2', 'get_VBF_var( \"pt2\", jets_pt,jets_eta,jets_phi,jets_id,jets_CHF,jets_rawfactor,{},{},{})'.format(pt1cut,pt2cut,idcut))\\\n",
    "                    .Define('pt1',  'jets_pt[0]')\\\n",
    "                    .Define('pt2', 'jets_pt[1]')\\\n",
    "                    .Define('Detajj',  'abs(etabest-etabest2)')"
   ]
  },
  {
   "cell_type": "code",
   "execution_count": 17,
   "metadata": {},
   "outputs": [
    {
     "data": {
      "text/plain": [
       "<cppyy.gbl.ROOT.RDF.RInterface<ROOT::Detail::RDF::RLoopManager,void> object at 0x5612c7475940>"
      ]
     },
     "execution_count": 17,
     "metadata": {},
     "output_type": "execute_result"
    }
   ],
   "source": [
    "df_mjj_all['24B']"
   ]
  },
  {
   "cell_type": "code",
   "execution_count": 18,
   "metadata": {},
   "outputs": [],
   "source": [
    "df_mjj_den = {}\n",
    "df_mjj_numL1 = {}\n",
    "df_mjj_num = {}\n",
    "for year in periods:\n",
    "    df_mjj_den[year] = df_mjj_all[year].Filter('run<379300 || run>379337')\n",
    "\n",
    "    # check triggers\n",
    "    df_mjj_numL1[year]  = df_mjj_den[year].Filter('passL1VBFincl')\n",
    "    df_mjj_num[year]    = df_mjj_den[year].Filter('passVBFincl_2j || passVBFincl_3j')"
   ]
  },
  {
   "cell_type": "code",
   "execution_count": 19,
   "metadata": {
    "scrolled": false
   },
   "outputs": [
    {
     "name": "stdout",
     "output_type": "stream",
     "text": [
      "Filling dfs for 24B\n",
      "Filling histograms for 24B\n",
      "all histo filled\n"
     ]
    }
   ],
   "source": [
    "### VBF inclusive trigger plots\n",
    "\n",
    "df_den = {}#df_mjj_all\n",
    "df_num = {}#df_mjj_all\n",
    "\n",
    "# define some filters and variables\n",
    "\n",
    "# mjj . \"baseline\" selection\n",
    "pass_cuts_for_mjj = 'pass_VBF_cuts(\"mjj\",jets_pt,jets_eta,jets_phi,jets_id,jets_CHF,{},{},{},false,false)'.format(pt1cut,pt2cut,mjjcut)\n",
    "\n",
    "\n",
    "for year in periods:\n",
    "    print('Filling dfs for {}'.format(year))\n",
    "    df_den[year] = {}\n",
    "    df_den[year]['mjj'] = df_mjj_all[year].Filter('run >379010 && (run<379300 || run>379337)').Filter('jets_pt[0]>{} && jets_pt[1]>{}'.format(pt1cut,pt2cut))\n",
    "    df_den[year]['mjj'] = df_mjj_all[year].Filter('run >379010 && (run<379300 || run>379337)').Filter('jets_pt[0]>{} && jets_pt[1]>{}'.format(pt1cut,pt2cut))\n",
    "    df_den[year]['pt1'] = df_mjj_all[year].Filter('run >379010 && (run<379300 || run>379337)').Filter('mjj2>{} && jets_pt[1]>{}'.format(mjjcut,pt2cut))\n",
    "    df_den[year]['pt2'] = df_mjj_all[year].Filter('run >379010 && (run<379300 || run>379337)').Filter('mjj2>{} && jets_pt[0]>{}'.format(mjjcut,pt1cut))\n",
    "    \n",
    "    \n",
    "    df_num[year] = { 'mjj' : {}, 'pt1' : {}, 'pt2' : {}}\n",
    "    \n",
    "    df_num[year]['mjj']['new'] = df_den[year]['mjj'].Filter('passVBFincl_2j || passVBFincl_3j')\n",
    "    df_num[year]['mjj']['L1']  = df_den[year]['mjj'].Filter('passL1VBFincl')\n",
    "    \n",
    "    df_num[year]['pt1']['new'] = df_den[year]['pt2'].Filter('passVBFincl_2j || passVBFincl_3j')\n",
    "    df_num[year]['pt1']['L1']  = df_den[year]['pt2'].Filter('passL1VBFincl')\n",
    "    \n",
    "    df_num[year]['pt2']['new'] = df_den[year]['pt2'].Filter('passVBFincl_2j || passVBFincl_3j')\n",
    "    df_num[year]['pt2']['L1']  = df_den[year]['pt2'].Filter('passL1VBFincl')\n",
    "\n",
    "\n",
    "#hist from DF    \n",
    "h_den = {}\n",
    "h_num = {}\n",
    "\n",
    "#nbin=10\n",
    "nbin=15\n",
    "#nbin=25\n",
    "import time\n",
    "for year in periods:\n",
    "    print('Filling histograms for {}'.format(year))\n",
    "    time_start = time.time()\n",
    "    \n",
    "    h_num[year] = {'mjj' : {}, 'pt1' : {}, 'pt2' : {}}\n",
    "    h_den[year] = {}\n",
    "    \n",
    "    h_den[year]['mjj'] = df_den[year]['mjj'].Histo1D(    ('h_den','',   nbin,0,2500),'mjjdumb')\n",
    "    h_num[year]['mjj'] = {\n",
    "        'new': df_num[year]['mjj']['new'].Histo1D(    ('h_num_new','',   nbin,0,2500),'mjj2'),\n",
    "        'L1':  df_num[year]['mjj']['L1'].Histo1D(     ('h_num_l1','',    nbin,0,2500),'mjj2'),\n",
    "    }\n",
    "    \n",
    "    h_den[year]['pt1'] = df_den[year]['pt1'].Histo1D(    ('h_den','',   nbin,0,300),'pt1')\n",
    "    h_num[year]['pt1'] = {\n",
    "        'new': df_num[year]['pt1']['new'].Histo1D(    ('h_num_new','',   nbin,0,300),'pt1'),\n",
    "        'L1':  df_num[year]['pt1']['L1'].Histo1D(     ('h_num_l1','',    nbin,0,300),'pt1'),\n",
    "    }\n",
    "    \n",
    "    h_den[year]['pt2'] = df_den[year]['pt2'].Histo1D(    ('h_den','',   nbin,0,200),'pt2')\n",
    "    h_num[year]['pt2'] = {\n",
    "        'new': df_num[year]['pt2']['new'].Histo1D(    ('h_num_new','',   nbin,0,200),'pt2'),\n",
    "        'L1':  df_num[year]['pt2']['L1'].Histo1D(     ('h_num_l1','',    nbin,0,200),'pt2'),\n",
    "    }\n",
    "    \n",
    "    \n",
    "print(\"all histo filled\")"
   ]
  },
  {
   "cell_type": "code",
   "execution_count": 20,
   "metadata": {},
   "outputs": [
    {
     "ename": "runtime_error",
     "evalue": "TH1D& ROOT::RDF::RResultPtr<TH1D>::operator*() =>\n    runtime_error: \nAn error occurred during just-in-time compilation in RLoopManager::Run. The lines above might indicate the cause of the crash\nAll RDF objects that have not run their event loop yet should be considered in an invalid state.\n",
     "output_type": "error",
     "traceback": [
      "\u001b[0;31m---------------------------------------------------------------------------\u001b[0m",
      "\u001b[0;31mruntime_error\u001b[0m                             Traceback (most recent call last)",
      "\u001b[0;32m<ipython-input-20-b340a043f5eb>\u001b[0m in \u001b[0;36m<module>\u001b[0;34m\u001b[0m\n\u001b[1;32m      3\u001b[0m \u001b[0;34m\u001b[0m\u001b[0m\n\u001b[1;32m      4\u001b[0m \u001b[0;31m# hlt histo first to \"zoom in\"\u001b[0m\u001b[0;34m\u001b[0m\u001b[0;34m\u001b[0m\u001b[0;34m\u001b[0m\u001b[0m\n\u001b[0;32m----> 5\u001b[0;31m \u001b[0mh_num\u001b[0m\u001b[0;34m[\u001b[0m\u001b[0;34m\"24B\"\u001b[0m\u001b[0;34m]\u001b[0m\u001b[0;34m[\u001b[0m\u001b[0;34m\"pt1\"\u001b[0m\u001b[0;34m]\u001b[0m\u001b[0;34m[\u001b[0m\u001b[0;34m'new'\u001b[0m\u001b[0;34m]\u001b[0m\u001b[0;34m.\u001b[0m\u001b[0mSetLineColor\u001b[0m\u001b[0;34m(\u001b[0m\u001b[0;36m2\u001b[0m\u001b[0;34m)\u001b[0m\u001b[0;34m\u001b[0m\u001b[0;34m\u001b[0m\u001b[0m\n\u001b[0m\u001b[1;32m      6\u001b[0m \u001b[0mh_num\u001b[0m\u001b[0;34m[\u001b[0m\u001b[0;34m\"24B\"\u001b[0m\u001b[0;34m]\u001b[0m\u001b[0;34m[\u001b[0m\u001b[0;34m\"pt1\"\u001b[0m\u001b[0;34m]\u001b[0m\u001b[0;34m[\u001b[0m\u001b[0;34m'new'\u001b[0m\u001b[0;34m]\u001b[0m\u001b[0;34m.\u001b[0m\u001b[0mDraw\u001b[0m\u001b[0;34m(\u001b[0m\u001b[0;34m\"hist e\"\u001b[0m\u001b[0;34m)\u001b[0m\u001b[0;34m\u001b[0m\u001b[0;34m\u001b[0m\u001b[0m\n\u001b[1;32m      7\u001b[0m \u001b[0;34m\u001b[0m\u001b[0m\n",
      "\u001b[0;31mruntime_error\u001b[0m: TH1D& ROOT::RDF::RResultPtr<TH1D>::operator*() =>\n    runtime_error: \nAn error occurred during just-in-time compilation in RLoopManager::Run. The lines above might indicate the cause of the crash\nAll RDF objects that have not run their event loop yet should be considered in an invalid state.\n"
     ]
    },
    {
     "name": "stderr",
     "output_type": "stream",
     "text": [
      "IncrementalExecutor::executeFunction: symbol '_ZSt8_DestroyIPfN4ROOT6Detail6VecOps15RAdoptAllocatorIfEEEvT_S6_RT0_' unresolved while linking [cling interface function]!\n",
      "You are probably missing the definition of void std::_Destroy<float*, ROOT::Detail::VecOps::RAdoptAllocator<float> >(float*, float*, ROOT::Detail::VecOps::RAdoptAllocator<float>&)\n",
      "Maybe you need to load the corresponding shared library?\n"
     ]
    }
   ],
   "source": [
    "ctest = ROOT.TCanvas(\"test\",\"test\")\n",
    "ctest.cd()\n",
    "\n",
    "# hlt histo first to \"zoom in\"\n",
    "h_num[\"24B\"][\"pt1\"]['new'].SetLineColor(2)\n",
    "h_num[\"24B\"][\"pt1\"]['new'].Draw(\"hist e\")\n",
    "\n",
    "# then L1\n",
    "h_num[\"24B\"][\"pt1\"]['L1'].SetLineColor(3)\n",
    "h_num[\"24B\"][\"pt1\"]['L1'].Draw(\"hist e same\")\n",
    "\n",
    "# then denominator\n",
    "h_den[\"24B\"][\"pt1\"].Draw(\"hist e same\")\n",
    "\n",
    "\n",
    "#ctest.SetLogy()\n",
    "ctest.SetGridy()\n",
    "ctest.Draw()\n"
   ]
  },
  {
   "cell_type": "code",
   "execution_count": null,
   "metadata": {},
   "outputs": [],
   "source": [
    "#periods = ['23all','23mc','23C']\n",
    "periods = ['24B']\n",
    "Eff = {}\n",
    "for year in periods:\n",
    "    print('Evaluating efficiencies for {}'.format(year))\n",
    "    Eff[year] = {'mjj' : {}, 'pt1' : {}, 'pt2' : {}}\n",
    "    \n",
    "    Eff[year]['mjj']['new']    = fill_eff(h_num, h_den, year, 'mjj', 'new')\n",
    "    Eff[year]['mjj']['L1']     = fill_eff(h_num, h_den, year, 'mjj', 'L1' )\n",
    "    \n",
    "    Eff[year]['pt1']['new']    = fill_eff(h_num, h_den, year, 'pt1', 'new')\n",
    "    Eff[year]['pt1']['L1']     = fill_eff(h_num, h_den, year, 'pt1', 'L1' )\n",
    "    \n",
    "    Eff[year]['pt2']['new']    = fill_eff(h_num, h_den, year, 'pt2', 'new')\n",
    "    Eff[year]['pt2']['L1']     = fill_eff(h_num, h_den, year, 'pt2', 'L1' )"
   ]
  },
  {
   "cell_type": "code",
   "execution_count": null,
   "metadata": {},
   "outputs": [],
   "source": [
    "# Definingvariables, categories & cuts\n",
    "\n",
    "jet_vars = ['pt1','pt2','mjj','detajj','chf']\n",
    "\n",
    "trigs = ['VBFincl','VBFjets','VBFmet' ,'VBFphot','VBFele' ,'VBFmu'  ,'VBFtau']\n",
    "\n",
    "\n",
    "add_cut_label = {\n",
    "    'mjj'    : ' ',\n",
    "    'pt1' : 'm_{jj} > %.0f GeV' % (mjjcut),\n",
    "    'pt2' : 'm_{jj} > %.0f GeV' % (mjjcut),\n",
    "}\n",
    "\n",
    "# Plotting labels\n",
    "VARLABELS = {\n",
    "    'mjj'    : 'm_{jj} [GeV]',\n",
    "    'pt1'    : 'Leading jet p_{T} [GeV]',\n",
    "    'pt2'    : 'Subleading jet p_{T} [GeV]',    \n",
    "}\n",
    "\n",
    "import CMS_lumi, tdrstyle\n",
    "import array\n",
    "\n",
    "tdrstyle.setTDRStyle()\n",
    "\n",
    "#change the CMS_lumi variables (see CMS_lumi.py)\n",
    "CMS_lumi.writeExtraText = True\n",
    "CMS_lumi.extraText = \"Simulation Preliminary\"\n",
    "#CMS_lumi.lumi_sqrtS = \"22.1 fb^{-1}, 2023 (13.6 TeV)\" # used with iPeriod = 0, e.g. for simulation-only plots (default is an empty string)\n",
    "CMS_lumi.lumi_sqrtS = \"2024B (13.6 TeV)\" # used with iPeriod = 0, e.g. for simulation-only plots (default is an empty string)\n",
    "\n",
    "iPeriod = 0\n",
    "iPos = 0#11\n",
    "H_ref = 600; \n",
    "W_ref = 600; \n",
    "W = W_ref\n",
    "H = H_ref\n",
    "# references for T, B, L, R\n",
    "T = 0.08*H_ref\n",
    "B = 0.14*H_ref \n",
    "L = 0.12*W_ref\n",
    "R = 0.04*W_ref\n",
    "\n"
   ]
  },
  {
   "cell_type": "code",
   "execution_count": null,
   "metadata": {},
   "outputs": [],
   "source": [
    "theVar = 'pt2'\n",
    "#theYear = \"23mc\"\n",
    "\n",
    "#for theVar in ['mjj','detajj','MET']:\n",
    "text_coord = {\n",
    "    'mjj' :    [1200,0.04,2400,0.57],\n",
    "    'pt1' :    [100,0.1,240,0.7],\n",
    "    'pt2' :    [100,0.1,240,0.7],\n",
    "    'detajj' : [4.1,0.07,7.95,0.6],\n",
    "    'MET' :    [170,0.04,390,0.64],\n",
    "    'chf' :    [0.45,0.04,0.92,0.64]\n",
    "    \n",
    "}\n",
    "#for theVar in ['mjj','detajj','chf']:\n",
    "for theYear in [\"24B\"]:    \n",
    "    Eff[theYear][theVar]['new'].SetLineColor(46)\n",
    "    Eff[theYear][theVar]['new'].SetMarkerColor(46)\n",
    "    Eff[theYear][theVar]['new'].SetLineWidth(2)\n",
    "    Eff[theYear][theVar]['new'].SetMarkerStyle(23)   \n",
    "    \n",
    "    Eff[theYear][theVar]['L1'].SetLineColor(9)\n",
    "    Eff[theYear][theVar]['L1'].SetMarkerColor(9)\n",
    "    Eff[theYear][theVar]['L1'].SetLineWidth(2)\n",
    "    Eff[theYear][theVar]['L1'].SetMarkerStyle(22)   \n",
    "    \n",
    "    path[theYear] = ROOT.TPaveText(text_coord[theVar][0],\n",
    "                                  text_coord[theVar][1],\n",
    "                                  text_coord[theVar][2],\n",
    "                                  text_coord[theVar][3])\n",
    "    \n",
    "    path[theYear].SetTextAlign(12)\n",
    "    path[theYear].SetFillStyle(0)\n",
    "    path[theYear].SetBorderSize(0)\n",
    "\n",
    "    path[theYear].AddText('#geq 2 jets,')\n",
    "    path[theYear].AddText('p_{T1} > %.0f GeV, p_{T2} %.0f GeV ' % (pt1cut,pt2cut)) \n",
    "    path[theYear].AddText(add_cut_label[theVar])\n",
    "    \n",
    "    canvas[theYear]=ROOT.TCanvas(theYear,\"Trigger Efficicency\")\n",
    "    canvas[theYear].SetFillColor(0)\n",
    "    canvas[theYear].SetBorderMode(0)\n",
    "    canvas[theYear].SetFrameFillStyle(0)\n",
    "    canvas[theYear].SetFrameBorderMode(0)\n",
    "    canvas[theYear].SetLeftMargin( L/W )\n",
    "    canvas[theYear].SetRightMargin( R/W )\n",
    "    canvas[theYear].SetTopMargin( T/H )\n",
    "    canvas[theYear].SetBottomMargin( B/H )\n",
    "    canvas[theYear].SetTickx()\n",
    "    canvas[theYear].SetTicky()\n",
    "    canvas[theYear].SetGrid()\n",
    "    canvas[theYear].cd()\n",
    "  \n",
    "    #dummy hist for consistent display\n",
    "    xlow=Eff[theYear][theVar]['L1'].GetXaxis().GetBinLowEdge(0)\n",
    "    xhigh=Eff[theYear][theVar]['L1'].GetXaxis().GetBinUpEdge(92)\n",
    "    hpx[theYear] = ROOT.TH2F(\"hpx\",\"\",10,xlow,xhigh,10,-0.02,1.3)\n",
    "    hpx[theYear].SetStats(False)\n",
    "    hpx[theYear].SetTitle(theVar)\n",
    "    hpx[theYear].GetXaxis().SetTitle(VARLABELS[theVar])\n",
    "    hpx[theYear].GetYaxis().SetTitle(\"Trigger Efficiency\")\n",
    "    hpx[theYear].GetXaxis().SetTitleSize(0.055)\n",
    "    hpx[theYear].GetXaxis().SetTitleOffset(1.1)\n",
    "    hpx[theYear].GetYaxis().SetTitleSize(0.06)\n",
    "    hpx[theYear].GetYaxis().SetTitleOffset(0.9)\n",
    "    hpx[theYear].Draw()\n",
    "    \n",
    "    legend[theYear] = ROOT.TLegend(0.15,0.73,0.5,0.88) # top left\n",
    "    legend[theYear].SetTextSize(0.04)\n",
    "    legend[theYear].SetFillStyle(0)\n",
    "    legend[theYear].SetBorderSize(0)\n",
    "    legend[theYear].AddEntry(Eff[theYear][theVar]['L1'],   'VBF inclusive - L1',    'lp')\n",
    "    legend[theYear].AddEntry(Eff[theYear][theVar]['new'],  'VBF inclusive - L1+HLT','lp')\n",
    "    \n",
    "    path[theYear].SetTextSize(0.045);\n",
    "    \n",
    "    Eff[theYear][theVar]['L1'].Draw(\"p same\")\n",
    "    Eff[theYear][theVar]['new'].Draw(\"p same\")\n",
    "    \n",
    "    legend[theYear].Draw(\"same\")\n",
    "    path[theYear].Draw(\"same\")\n",
    "    canvas[theYear].Update()\n",
    "    CMS_lumi.CMS_lumi(canvas[theYear], iPeriod, iPos)\n",
    "    \n",
    "    redrawBorder()\n",
    "    \n",
    "    #canvas[theVar].Draw()\n",
    "    canvas[theYear].Draw()\n",
    "    \n",
    "#    canvas[theYear].SaveAs(\"./DPSplots/VBFincl_L1HLT_{}.data2_forDPS.pdf\".format(theVar))\n",
    "#    canvas[theYear].SaveAs(\"./DPSplots/VBFincl_L1HLT_{}.data2_forDPS.png\".format(theVar))\n",
    "#    canvas[theYear].SaveAs(\"./DPSplots/VBFincl_L1HLT_{}.data2_forDPS.root\".format(theVar))\n",
    "    \n",
    "    #canvas[theVar].SaveAs(\"./DPSplots/23C_vs_23D_VBFincl_{}.selCompCHFcut.data.pdf\".format(theVar))\n",
    "    #canvas[theVar].SaveAs(\"./DPSplots/23C_vs_23D_VBFincl_{}.selCompCHFcut.data.png\".format(theVar))"
   ]
  },
  {
   "cell_type": "code",
   "execution_count": null,
   "metadata": {},
   "outputs": [],
   "source": []
  },
  {
   "cell_type": "code",
   "execution_count": null,
   "metadata": {},
   "outputs": [],
   "source": []
  },
  {
   "cell_type": "code",
   "execution_count": null,
   "metadata": {},
   "outputs": [],
   "source": []
  }
 ],
 "metadata": {
  "kernelspec": {
   "display_name": "MLenv",
   "language": "python",
   "name": "mlenv"
  },
  "language_info": {
   "codemirror_mode": {
    "name": "ipython",
    "version": 3
   },
   "file_extension": ".py",
   "mimetype": "text/x-python",
   "name": "python",
   "nbconvert_exporter": "python",
   "pygments_lexer": "ipython3",
   "version": "3.8.5"
  }
 },
 "nbformat": 4,
 "nbformat_minor": 2
}
