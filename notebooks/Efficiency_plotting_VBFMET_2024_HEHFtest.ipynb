{
 "cells": [
  {
   "cell_type": "code",
   "execution_count": 1,
   "metadata": {},
   "outputs": [
    {
     "data": {
      "text/html": [
       "<style>.container { width:100% !important; }</style>"
      ],
      "text/plain": [
       "<IPython.core.display.HTML object>"
      ]
     },
     "metadata": {},
     "output_type": "display_data"
    }
   ],
   "source": [
    "# Fit notebook to browser window\n",
    "from IPython.core.display import display, HTML\n",
    "display(HTML(\"<style>.container { width:100% !important; }</style>\"))"
   ]
  },
  {
   "cell_type": "code",
   "execution_count": 2,
   "metadata": {},
   "outputs": [
    {
     "name": "stdout",
     "output_type": "stream",
     "text": [
      "Welcome to JupyROOT 6.22/02\n"
     ]
    }
   ],
   "source": [
    "import ROOT\n",
    "import math \n",
    "import time\n",
    "import os\n",
    "import numpy as np\n",
    "from array import array\n",
    "import uproot\n",
    "import pandas as pd"
   ]
  },
  {
   "cell_type": "code",
   "execution_count": 4,
   "metadata": {},
   "outputs": [
    {
     "name": "stderr",
     "output_type": "stream",
     "text": [
      "Error in <TList::Clear>: A list is accessing an object (0x55a06a6ddb90) already deleted (list name = TList)\n",
      "Error in <TList::Clear>: A list is accessing an object (0x55a06a5da3c0) already deleted (list name = TList)\n",
      "Error in <TList::Clear>: A list is accessing an object (0x55a06a5da7d0) already deleted (list name = TList)\n",
      "Error in <TList::Clear>: A list is accessing an object (0x55a06a5dabe0) already deleted (list name = TList)\n",
      "Error in <TList::Clear>: A list is accessing an object (0x55a06a5db0b0) already deleted (list name = TList)\n",
      "Error in <TList::Clear>: A list is accessing an object (0x55a06a64b1d0) already deleted (list name = TList)\n",
      "Error in <TList::Clear>: A list is accessing an object (0x55a06a64bbc0) already deleted (list name = TList)\n",
      "Error in <TList::Clear>: A list is accessing an object (0x55a06a64bdf0) already deleted (list name = TList)\n",
      "Error in <TList::Clear>: A list is accessing an object (0x55a06a64c250) already deleted (list name = TList)\n",
      "Error in <TList::Clear>: A list is accessing an object (0x55a06a655b40) already deleted (list name = TList)\n",
      "Error in <TList::Clear>: A list is accessing an object (0x55a06a6560c0) already deleted (list name = TList)\n",
      "Error in <TList::Clear>: A list is accessing an object (0x55a06a656660) already deleted (list name = TList)\n"
     ]
    }
   ],
   "source": [
    "# Get input TTree\n",
    "dir_base = '/grid_mnt/vol_home/llr/cms/portales/HIGtrigger/higgs-trigger-nanoaod/CMSSW_10_6_18/src/'\n",
    "dir_in = dir_base + 'higgs-trigger-nano/'\n",
    "\n",
    "DFs = {}\n",
    "\n",
    "file_in = dir_in + 'Muon24D_tmp.root'\n",
    "#file_in = dir_in + 'histos_24B_Muon.v1.root'\n",
    "the_tree = uproot.open(file_in)['VBFNanoAOD/VBFtree']\n",
    "df = ROOT.RDataFrame('VBFNanoAOD/VBFtree',file_in)\n",
    "\n",
    "DFs['pre'] = df.Filter('(run>380540 && run<380581) || (run>380614 && run<380627)')\n",
    "DFs['post'] = df.Filter('(run>380645 && run<380652)')\n",
    "\n",
    "#380564\n",
    "#380567\n",
    "#380623\n",
    "#380624\n",
    "#380625\n",
    "#380626\n",
    "\n"
   ]
  },
  {
   "cell_type": "code",
   "execution_count": null,
   "metadata": {},
   "outputs": [],
   "source": []
  },
  {
   "cell_type": "code",
   "execution_count": 5,
   "metadata": {},
   "outputs": [
    {
     "data": {
      "text/plain": [
       "True"
      ]
     },
     "execution_count": 5,
     "metadata": {},
     "output_type": "execute_result"
    }
   ],
   "source": [
    "# highest mjj among all jet pairs (with pT>60 GeV, id tight) + additional variables for VBF jets\n",
    "ROOT.gInterpreter.Declare('''\n",
    "float get_VBF_var(TString var,\n",
    "                  ROOT::VecOps::RVec<Float_t> pt,\n",
    "                  ROOT::VecOps::RVec<Float_t> eta,\n",
    "                  ROOT::VecOps::RVec<Float_t> phi,\n",
    "                  ROOT::VecOps::RVec<Float_t> id,\n",
    "                  ROOT::VecOps::RVec<Float_t> chf,\n",
    "                  ROOT::VecOps::RVec<Float_t> rawfactor,\n",
    "                  Float_t pt1cut,\n",
    "                  Float_t pt2cut,\n",
    "                  Float_t idcut,\n",
    "                  Bool_t applyRawFactor) {\n",
    "    \n",
    "    Double_t mjj      = -1;\n",
    "    Double_t detajj   = -1;\n",
    "    Double_t etabest  = -999;\n",
    "    Double_t etabest2 = -999;\n",
    "    Double_t ptbest  = -999;\n",
    "    Double_t ptbest2 = -999;\n",
    "    Double_t chfbest  = -1;\n",
    "    Double_t chfbest2 = -1;\n",
    "    \n",
    "    const auto size = pt.size();\n",
    "    for (size_t idx1=0; idx1<size; ++idx1){\n",
    "        for (size_t idx2=0; idx2<idx1; ++idx2){\n",
    "        \n",
    "            // VBF jets have to pass the ptcut2\n",
    "            if (pt[idx1]<pt2cut || pt[idx2]<pt2cut)\n",
    "                continue;\n",
    "                           \n",
    "            // in any case, we want tightly ID'd jets (just a safety, the condition should never be true)\n",
    "            if (id[idx1]<idcut || id[idx2]<idcut)\n",
    "                continue;\n",
    "            \n",
    "            // if minimal selection applies, get thtPt\n",
    "            ROOT::Math::PtEtaPhiMVector p1,p2;\n",
    "            if(!applyRawFactor){\n",
    "                p1.SetPt(pt[idx1]).SetEta(eta[idx1]).SetPhi(phi[idx1]).SetM(0.);\n",
    "                p2.SetPt(pt[idx2]).SetEta(eta[idx2]).SetPhi(phi[idx2]).SetM(0.);\n",
    "            } else {\n",
    "                p1.SetPt(pt[idx1]*(1.-rawfactor[idx1])).SetEta(eta[idx1]).SetPhi(phi[idx1]).SetM(0.);\n",
    "                p2.SetPt(pt[idx2]*(1.-rawfactor[idx2])).SetEta(eta[idx2]).SetPhi(phi[idx2]).SetM(0.);\n",
    "            }\n",
    "            // check if the pair has best mjj, if so store VBF jets quantities\n",
    "            if ((p1+p2).mass() > mjj) {\n",
    "                mjj      = (p1+p2).mass();\n",
    "                detajj   = abs(eta[idx1]-eta[idx2]);\n",
    "                etabest  = (p1.pt()>p2.pt()) ? p1.eta():p2.eta();\n",
    "                etabest2 = (p1.pt()>p2.pt()) ? p2.eta():p1.eta();\n",
    "                ptbest   = (p1.pt()>p2.pt()) ? p1.pt():p2.pt();\n",
    "                ptbest2  = (p1.pt()>p2.pt()) ? p2.pt():p1.pt();\n",
    "                chfbest  = (p1.pt()>p2.pt()) ? chf[idx1]:chf[idx2];\n",
    "                chfbest2 = (p1.pt()>p2.pt()) ? chf[idx2]:chf[idx1];\n",
    "            }\n",
    "        }\n",
    "    }\n",
    "    if (var==\"mjj\") \n",
    "        return mjj;\n",
    "    if (var==\"detajj\")\n",
    "        return detajj;\n",
    "    if (var==\"eta\")\n",
    "        return etabest;\n",
    "    if (var==\"eta2\")\n",
    "        return etabest2;\n",
    "    if (var==\"pt\")\n",
    "        return ptbest;\n",
    "    if (var==\"pt2\")\n",
    "        return ptbest2;\n",
    "    if (var==\"chf\")\n",
    "        return chfbest;\n",
    "    if (var==\"chf2\")\n",
    "        return chfbest2;\n",
    "        \n",
    "    return -999.;\n",
    "}\n",
    "'''\n",
    ")"
   ]
  },
  {
   "cell_type": "code",
   "execution_count": 6,
   "metadata": {},
   "outputs": [
    {
     "data": {
      "text/plain": [
       "True"
      ]
     },
     "execution_count": 6,
     "metadata": {},
     "output_type": "execute_result"
    }
   ],
   "source": [
    "# highest mjj among all jet pairs (with pT>60 GeV, id tight) + additional variables for VBF jets\n",
    "ROOT.gInterpreter.Declare('''\n",
    "float get_mjj_dumb(TString var,\n",
    "                  ROOT::VecOps::RVec<Float_t> pt,\n",
    "                  ROOT::VecOps::RVec<Float_t> eta,\n",
    "                  ROOT::VecOps::RVec<Float_t> phi) {\n",
    "    \n",
    "            ROOT::Math::PtEtaPhiMVector pp1(pt[0], eta[0], phi[0], 0.);\n",
    "            ROOT::Math::PtEtaPhiMVector pp2(pt[1], eta[1], phi[1], 0.);\n",
    "            return (pp1+pp2).mass();\n",
    "}\n",
    "'''\n",
    ")"
   ]
  },
  {
   "cell_type": "code",
   "execution_count": 7,
   "metadata": {},
   "outputs": [
    {
     "data": {
      "text/plain": [
       "True"
      ]
     },
     "execution_count": 7,
     "metadata": {},
     "output_type": "execute_result"
    }
   ],
   "source": [
    "# highest mjj among all jet pairs (with pT>60 GeV, id tight) + additional variables for VBF jets\n",
    "ROOT.gInterpreter.Declare('''\n",
    "float get_metnomu(Float_t met_pt,\n",
    "                  Float_t met_phi,\n",
    "                  ROOT::VecOps::RVec<Float_t> mu_pt,\n",
    "                  ROOT::VecOps::RVec<Float_t> mu_eta,\n",
    "                  ROOT::VecOps::RVec<Float_t> mu_phi\n",
    "                  ) {\n",
    "    \n",
    "            ROOT::Math::PtEtaPhiMVector pp1(met_pt, 0, met_phi, 0.);\n",
    "            ROOT::Math::PtEtaPhiMVector pp2(mu_pt[0], mu_eta[0], mu_phi[0], 0.);\n",
    "            return (pp1+pp2).pt();\n",
    "}\n",
    "'''\n",
    ")"
   ]
  },
  {
   "cell_type": "code",
   "execution_count": 8,
   "metadata": {},
   "outputs": [],
   "source": [
    "def fill_eff(h_num, h_den, year,var,version):\n",
    "    eff = ROOT.TGraphAsymmErrors(h_num[year][var][version].GetValue(),\n",
    "                                 h_den[year][var].GetValue(),\n",
    "                                 'eff_{}'.format(var))\n",
    "    return eff\n",
    "\n",
    "def redrawBorder():\n",
    "    ROOT.gPad.Update()\n",
    "    ROOT.gPad.RedrawAxis()\n",
    "    l = ROOT.TLine()\n",
    "    l.SetLineWidth(2)\n",
    "    l.DrawLine(ROOT.gPad.GetUxmin(), ROOT.gPad.GetUymax(), ROOT.gPad.GetUxmax(), ROOT.gPad.GetUymax())\n",
    "    l.DrawLine(ROOT.gPad.GetUxmax(), ROOT.gPad.GetUymin(), ROOT.gPad.GetUxmax(), ROOT.gPad.GetUymax())\n",
    "    l.DrawLine(ROOT.gPad.GetUxmin(), ROOT.gPad.GetUymin(), ROOT.gPad.GetUxmin(), ROOT.gPad.GetUymax())\n",
    "    l.DrawLine(ROOT.gPad.GetUxmin(), ROOT.gPad.GetUymin(), ROOT.gPad.GetUxmax(), ROOT.gPad.GetUymin())\n",
    "\n",
    "def print_unique_runs(df):\n",
    "    df_runs = df.AsNumpy([\"run\"])\n",
    "    np.unique(df_runs['run'])\n",
    "    for run in np.unique(df_runs['run']):\n",
    "        #nevts = df.Filter('run=={} && passL1VBFincl'.format(run)).Count().GetValue()\n",
    "        nevts = df.Filter('run=={}'.format(run)).Count().GetValue()\n",
    "        if nevts!=0:\n",
    "            print(int(run))"
   ]
  },
  {
   "cell_type": "code",
   "execution_count": 38,
   "metadata": {},
   "outputs": [
    {
     "name": "stdout",
     "output_type": "stream",
     "text": [
      "380647\n",
      "380648\n",
      "380649\n"
     ]
    }
   ],
   "source": [
    "print_unique_runs(DFs['post'])"
   ]
  },
  {
   "cell_type": "code",
   "execution_count": 10,
   "metadata": {},
   "outputs": [],
   "source": [
    "def print_unique_runs2(df):\n",
    "    df_runs = df.AsNumpy([\"run\"])\n",
    "    np.unique(df_runs['run'])\n",
    "    for run in np.unique(df_runs['run']):\n",
    "        nevts = df.Filter('run=={} && (passL1VBFincl||passL1VBFjets||passL1VBFmet||passL1VBFmu||passL1VBFele||passL1VBFtau)'.format(run)).Count().GetValue()\n",
    "        if nevts==0:\n",
    "            print(int(run))\n",
    "            \n",
    "print_unique_runs2(DFs['post'])"
   ]
  },
  {
   "cell_type": "code",
   "execution_count": 11,
   "metadata": {},
   "outputs": [],
   "source": [
    "periods = [\"pre\",\"post\"]\n",
    "\n",
    "#pt1cut = 125.\n",
    "#pt2cut = 50.\n",
    "#mjjcut = 1100.\n",
    "#detajjcut = 4.0\n",
    "\n",
    "pt1cut = 135.\n",
    "pt2cut = 60.\n",
    "mjjcut = 1500.\n",
    "\n",
    "pt1cut = 100.\n",
    "pt2cut = 60.\n",
    "mjjcut = 1000.\n",
    "\n",
    "idcut = 6\n",
    "\n",
    "df_mjj_all = {}\n",
    "\n",
    "# apply basic filter & evaluate variables\n",
    "for year in periods:\n",
    "    \n",
    "    cut_df = DFs[year]    \n",
    "    \n",
    "    df_mjj_all[year] = cut_df\\\n",
    "                    .Define('mjj2',    'get_VBF_var( \"mjj\", jets_pt,jets_eta,jets_phi,jets_id,jets_CHF,jets_rawfactor,{},{},{},0)'.format(pt1cut,pt2cut,idcut))\\\n",
    "                    .Define('mjj2raw',    'get_VBF_var( \"mjj\", jets_pt,jets_eta,jets_phi,jets_id,jets_CHF,jets_rawfactor,{},{},{},1)'.format(pt1cut,pt2cut,idcut))\\\n",
    "                    .Define('mjjdumb', 'get_mjj_dumb(\"\",jets_pt,jets_eta,jets_phi)')\\\n",
    "                    .Define('chfbest', 'get_VBF_var( \"chf\", jets_pt,jets_eta,jets_phi,jets_id,jets_CHF,jets_rawfactor,{},{},{},0)'.format(pt1cut,pt2cut,idcut))\\\n",
    "                    .Define('chfbest2','get_VBF_var( \"chf2\",jets_pt,jets_eta,jets_phi,jets_id,jets_CHF,jets_rawfactor,{},{},{},0)'.format(pt1cut,pt2cut,idcut))\\\n",
    "                    .Define('etabest', 'get_VBF_var( \"eta\", jets_pt,jets_eta,jets_phi,jets_id,jets_CHF,jets_rawfactor,{},{},{},0)'.format(pt1cut,pt2cut,idcut))\\\n",
    "                    .Define('etabest2','get_VBF_var( \"eta2\",jets_pt,jets_eta,jets_phi,jets_id,jets_CHF,jets_rawfactor,{},{},{},0)'.format(pt1cut,pt2cut,idcut))\\\n",
    "                    .Define('ptbest',  'get_VBF_var( \"pt\",  jets_pt,jets_eta,jets_phi,jets_id,jets_CHF,jets_rawfactor,{},{},{},0)'.format(pt1cut,pt2cut,idcut))\\\n",
    "                    .Define('ptbest2', 'get_VBF_var( \"pt2\", jets_pt,jets_eta,jets_phi,jets_id,jets_CHF,jets_rawfactor,{},{},{},0)'.format(pt1cut,pt2cut,idcut))\\\n",
    "                    .Define('ptj1',  'jets_pt[0]')\\\n",
    "                    .Define('ptj2', 'jets_pt[1]')\\\n",
    "                    .Define('pt1raw',  'jets_pt[0]*(1.-jets_rawfactor[0])')\\\n",
    "                    .Define('pt2raw', 'jets_pt[1]*(1.-jets_rawfactor[1])')\\\n",
    "                    .Define('metnomu', 'get_metnomu(MET_et,MET_phi,mu_pt,mu_eta,mu_phi)')\\\n",
    "                    .Define('Detajj',  'abs(etabest-etabest2)')"
   ]
  },
  {
   "cell_type": "code",
   "execution_count": 12,
   "metadata": {},
   "outputs": [],
   "source": [
    "veto_runs = [378994,378997,379000,379001,379002,379004,379006,379008,379009,379010,379315,379316,379317,379318,379337]"
   ]
  },
  {
   "cell_type": "code",
   "execution_count": 33,
   "metadata": {
    "scrolled": false
   },
   "outputs": [
    {
     "name": "stdout",
     "output_type": "stream",
     "text": [
      "Filling dfs for pre\n",
      "Filling dfs for post\n",
      "Filling histograms for pre\n",
      "Filling histograms for post\n",
      "all histo filled\n"
     ]
    }
   ],
   "source": [
    "### VBF metusive trigger plots\n",
    "\n",
    "df_den = {}#df_mjj_all\n",
    "df_num = {}#df_mjj_all\n",
    "df_base = {}\n",
    "for year in periods:\n",
    "    print('Filling dfs for {}'.format(year))\n",
    "    df_den[year] = {}\n",
    "    \n",
    "    df_base[year] = df_mjj_all[year]\n",
    "    for run in veto_runs:\n",
    "        df_base[year] = df_base[year].Filter('run!={}'.format(run))#.Filter('Detajj>4.0')\n",
    "    \n",
    "    df_den[year]['mjj'] = df_base[year].Filter('metnomu > 120 && jets_pt[0]>{} && jets_pt[1]>{}'.format(pt1cut,pt2cut))\n",
    "    \n",
    "    df_den[year]['met'] = df_base[year].Filter('mjj2>{} && jets_pt[0]>{} && jets_pt[1]>{}'.format(mjjcut,pt1cut,pt2cut))\n",
    "    \n",
    "    df_den[year]['mjjraw'] = df_base[year].Filter('jets_pt[0]*(1.-jets_rawfactor[0])>{} && jets_pt[1]*(1.-jets_rawfactor[1])>{}'.format(pt1cut,pt2cut))\n",
    "    df_den[year]['pt1'] = df_base[year].Filter('mjj2>{} && jets_pt[1]*(1.-jets_rawfactor[1])>{}'.format(mjjcut,pt2cut))\n",
    "    df_den[year]['pt2'] = df_base[year].Filter('mjj2>{} && jets_pt[0]*(1.-jets_rawfactor[0])>{}'.format(mjjcut,pt1cut))\n",
    "    df_den[year]['pt1raw'] = df_base[year].Filter('mjj2raw>{} && jets_pt[1]*(1.-jets_rawfactor[1])>{}'.format(mjjcut,pt2cut))\n",
    "    df_den[year]['pt2raw'] = df_base[year].Filter('mjj2raw>{} && jets_pt[0]*(1.-jets_rawfactor[0])>{}'.format(mjjcut,pt1cut))\n",
    "    \n",
    "    \n",
    "    df_num[year] = { 'mjj' : {}, 'met': {}, 'pt1' : {}, 'pt2' : {},\n",
    "                     'mjjraw' : {}, 'pt1raw' : {}, 'pt2raw' : {}}\n",
    "    \n",
    "    df_num[year]['mjj']['new'] = df_den[year]['mjj'].Filter('passVBFmet_2j || passVBFmet_3j')\n",
    "    df_num[year]['mjj']['L1']  = df_den[year]['mjj'].Filter('passL1VBFmet')\n",
    "    \n",
    "    df_num[year]['met']['new'] = df_den[year]['met'].Filter('passVBFmet_2j || passVBFmet_3j')\n",
    "    df_num[year]['met']['L1']  = df_den[year]['met'].Filter('passL1VBFmet')\n",
    "    \n",
    "    df_num[year]['pt1']['new'] = df_den[year]['pt2'].Filter('passVBFmet_2j || passVBFmet_3j')\n",
    "    df_num[year]['pt1']['L1']  = df_den[year]['pt2'].Filter('passL1VBFmet')\n",
    "    \n",
    "    df_num[year]['pt2']['new'] = df_den[year]['pt2'].Filter('passVBFmet_2j || passVBFmet_3j')\n",
    "    df_num[year]['pt2']['L1']  = df_den[year]['pt2'].Filter('passL1VBFmet')\n",
    "    \n",
    "    \n",
    "    \n",
    "    df_num[year]['mjjraw']['new'] = df_den[year]['mjjraw'].Filter('passVBFmet_2j || passVBFmet_3j')\n",
    "    df_num[year]['mjjraw']['L1']  = df_den[year]['mjjraw'].Filter('passL1VBFmet')\n",
    "    \n",
    "    df_num[year]['pt1raw']['new'] = df_den[year]['pt2raw'].Filter('passVBFmet_2j || passVBFmet_3j')\n",
    "    df_num[year]['pt1raw']['L1']  = df_den[year]['pt2raw'].Filter('passL1VBFmet')\n",
    "    \n",
    "    df_num[year]['pt2raw']['new'] = df_den[year]['pt2raw'].Filter('passVBFmet_2j || passVBFmet_3j')\n",
    "    df_num[year]['pt2raw']['L1']  = df_den[year]['pt2raw'].Filter('passL1VBFmet')\n",
    "\n",
    "\n",
    "\n",
    "#hist from DF    \n",
    "h_den = {}\n",
    "h_num = {}\n",
    "\n",
    "#nbin=10\n",
    "#nbin=15\n",
    "nbin=25\n",
    "import time\n",
    "for year in periods:\n",
    "    print('Filling histograms for {}'.format(year))\n",
    "    time_start = time.time()\n",
    "    \n",
    "    h_num[year] = {'mjj' : {}, 'met': {}, 'pt1' : {}, 'pt2' : {},\n",
    "                   'mjjraw' : {}, 'pt1raw' : {}, 'pt2raw' : {}}\n",
    "    h_den[year] = {}\n",
    "    \n",
    "    h_den[year]['mjj'] = df_den[year]['mjj'].Histo1D(    ('h_den','',   nbin,0,2500),'mjj2')\n",
    "    h_num[year]['mjj'] = {\n",
    "        'new': df_num[year]['mjj']['new'].Histo1D(    ('h_num_new','',   nbin,0,2500),'mjj2'),\n",
    "        'L1':  df_num[year]['mjj']['L1'].Histo1D(     ('h_num_l1','',    nbin,0,2500),'mjj2'),\n",
    "    }    \n",
    "    \n",
    "    h_den[year]['met'] = df_den[year]['met'].Histo1D(    ('h_den','',   nbin,0,400),'metnomu')\n",
    "    h_num[year]['met'] = {\n",
    "        'new': df_num[year]['met']['new'].Histo1D(    ('h_num_new','',   nbin,0,400),'metnomu'),\n",
    "        'L1':  df_num[year]['met']['L1'].Histo1D(     ('h_num_l1','',    nbin,0,400),'metnomu'),\n",
    "    }\n",
    "    \n",
    "    h_den[year]['pt1'] = df_den[year]['pt1'].Histo1D(    ('h_den','',   nbin,0,300),'ptj1')\n",
    "    h_num[year]['pt1'] = {\n",
    "        'new': df_num[year]['pt1']['new'].Histo1D(    ('h_num_new','',   nbin,0,300),'ptj1'),\n",
    "        'L1':  df_num[year]['pt1']['L1'].Histo1D(     ('h_num_l1','',    nbin,0,300),'ptj1'),\n",
    "    }\n",
    "    \n",
    "    h_den[year]['pt2'] = df_den[year]['pt2'].Histo1D(    ('h_den','',   nbin,0,200),'ptj2')\n",
    "    h_num[year]['pt2'] = {\n",
    "        'new': df_num[year]['pt2']['new'].Histo1D(    ('h_num_new','',   nbin,0,200),'ptj2'),\n",
    "        'L1':  df_num[year]['pt2']['L1'].Histo1D(     ('h_num_l1','',    nbin,0,200),'ptj2'),\n",
    "    }\n",
    "        \n",
    "    h_den[year]['mjjraw'] = df_den[year]['mjjraw'].Histo1D(    ('h_den','',   nbin,0,2500),'mjj2')\n",
    "    h_num[year]['mjjraw'] = {\n",
    "        'new': df_num[year]['mjjraw']['new'].Histo1D(    ('h_num_new','',   nbin,0,2500),'mjj2'),\n",
    "        'L1':  df_num[year]['mjjraw']['L1'].Histo1D(     ('h_num_l1','',    nbin,0,2500),'mjj2'),\n",
    "    }\n",
    "    \n",
    "    h_den[year]['pt1raw'] = df_den[year]['pt1raw'].Histo1D(    ('h_den','',   nbin,0,300),'ptj1')\n",
    "    h_num[year]['pt1raw'] = {\n",
    "        'new': df_num[year]['pt1raw']['new'].Histo1D(    ('h_num_new','',   nbin,0,300),'ptj1'),\n",
    "        'L1':  df_num[year]['pt1raw']['L1'].Histo1D(     ('h_num_l1','',    nbin,0,300),'ptj1'),\n",
    "    }\n",
    "    \n",
    "    h_den[year]['pt2raw'] = df_den[year]['pt2raw'].Histo1D(    ('h_den','',   nbin,0,200),'ptj2')\n",
    "    h_num[year]['pt2raw'] = {\n",
    "        'new': df_num[year]['pt2raw']['new'].Histo1D(    ('h_num_new','',   nbin,0,200),'ptj2'),\n",
    "        'L1':  df_num[year]['pt2raw']['L1'].Histo1D(     ('h_num_l1','',    nbin,0,200),'ptj2'),\n",
    "    }\n",
    "    \n",
    "print(\"all histo filled\")"
   ]
  },
  {
   "cell_type": "code",
   "execution_count": 34,
   "metadata": {
    "scrolled": true
   },
   "outputs": [],
   "source": [
    "#ctest = ROOT.TCanvas(\"test\",\"test\")\n",
    "#ctest.cd()\n",
    "#\n",
    "## hlt histo first to \"zoom in\"\n",
    "#h_num[\"pre\"][\"mjj\"]['new'].SetLineColor(2)\n",
    "#h_num[\"pre\"][\"mjj\"]['new'].Draw(\"hist e\")\n",
    "#\n",
    "## then L1\n",
    "#h_num[\"pre\"][\"mjj\"]['L1'].SetLineColor(3)\n",
    "#h_num[\"pre\"][\"mjj\"]['L1'].Draw(\"hist e same\")\n",
    "#\n",
    "## then denominator\n",
    "#h_den[\"pre\"][\"mjj\"].Draw(\"hist e same\")\n",
    "#\n",
    "#\n",
    "##ctest.SetLogy()\n",
    "#ctest.SetGridy()\n",
    "#ctest.Draw()\n"
   ]
  },
  {
   "cell_type": "code",
   "execution_count": 35,
   "metadata": {},
   "outputs": [
    {
     "name": "stdout",
     "output_type": "stream",
     "text": [
      "Evaluating efficiencies for pre\n",
      "Evaluating efficiencies for post\n"
     ]
    }
   ],
   "source": [
    "#periods = ['23all','23mc','23C']\n",
    "periods = ['pre','post']\n",
    "#periods = ['24B']\n",
    "Eff = {}\n",
    "for year in periods:\n",
    "    print('Evaluating efficiencies for {}'.format(year))\n",
    "    Eff[year] = {'mjj' : {}, 'met': {}, 'pt1' : {}, 'pt2' : {},\n",
    "                   'mjjraw' : {}, 'pt1raw' : {}, 'pt2raw' : {}}\n",
    "    \n",
    "    Eff[year]['mjj']['new']    = fill_eff(h_num, h_den, year, 'mjj', 'new')\n",
    "    Eff[year]['mjj']['L1']     = fill_eff(h_num, h_den, year, 'mjj', 'L1' )\n",
    "    \n",
    "    Eff[year]['met']['new']    = fill_eff(h_num, h_den, year, 'met', 'new')\n",
    "    Eff[year]['met']['L1']     = fill_eff(h_num, h_den, year, 'met', 'L1' )\n",
    "    \n",
    "    #Eff[year]['pt1']['new']    = fill_eff(h_num, h_den, year, 'pt1', 'new')\n",
    "    #Eff[year]['pt1']['L1']     = fill_eff(h_num, h_den, year, 'pt1', 'L1' )\n",
    "    \n",
    "    #Eff[year]['pt2']['new']    = fill_eff(h_num, h_den, year, 'pt2', 'new')\n",
    "    #Eff[year]['pt2']['L1']     = fill_eff(h_num, h_den, year, 'pt2', 'L1' )\n",
    "    \n",
    "    #Eff[year]['mjjraw']['new']    = fill_eff(h_num, h_den, year, 'mjjraw', 'new')\n",
    "    #Eff[year]['mjjraw']['L1']     = fill_eff(h_num, h_den, year, 'mjjraw', 'L1' )\n",
    "    \n",
    "    #Eff[year]['pt1raw']['new']    = fill_eff(h_num, h_den, year, 'pt1raw', 'new')\n",
    "    #Eff[year]['pt1raw']['L1']     = fill_eff(h_num, h_den, year, 'pt1raw', 'L1' )\n",
    "    \n",
    "    #Eff[year]['pt2raw']['new']    = fill_eff(h_num, h_den, year, 'pt2raw', 'new')\n",
    "    #Eff[year]['pt2raw']['L1']     = fill_eff(h_num, h_den, year, 'pt2raw', 'L1' )"
   ]
  },
  {
   "cell_type": "code",
   "execution_count": 45,
   "metadata": {},
   "outputs": [],
   "source": [
    "# Definingvariables, categories & cuts\n",
    "\n",
    "jet_vars = ['pt1','pt2','mjj','detajj','chf']\n",
    "\n",
    "trigs = ['VBFincl','VBFjets','VBFmet' ,'VBFphot','VBFele' ,'VBFmu'  ,'VBFtau']\n",
    "\n",
    "\n",
    "add_cut_label = {\n",
    "    'mjj'    : ' ',\n",
    "    'met'    : ' ',\n",
    "    'pt1' : 'm_{jj} > %.0f GeV' % (mjjcut),\n",
    "    'pt2' : 'm_{jj} > %.0f GeV' % (mjjcut),\n",
    "    'mjjraw'    : ' ',\n",
    "    'pt1raw' : 'm_{jj} > %.0f GeV' % (mjjcut),\n",
    "    'pt2raw' : 'm_{jj} > %.0f GeV' % (mjjcut),\n",
    "}\n",
    "\n",
    "# Plotting labels\n",
    "VARLABELS = {\n",
    "    'mjj'    : 'm_{jj} [GeV]',\n",
    "    'met'    : 'MET (no #mu) [GeV]',\n",
    "    'pt1'    : 'Leading jet p_{T} [GeV]',\n",
    "    'pt2'    : 'Subleading jet p_{T} [GeV]',    \n",
    "    'mjjraw'    : 'm_{jj} [GeV]',\n",
    "    'pt1raw'    : 'Leading jet p_{T} [GeV]',\n",
    "    'pt2raw'    : 'Subleading jet p_{T} [GeV]',    \n",
    "}\n",
    "\n",
    "import CMS_lumi, tdrstyle\n",
    "import array\n",
    "\n",
    "tdrstyle.setTDRStyle()\n",
    "\n",
    "#change the CMS_lumi variables (see CMS_lumi.py)\n",
    "CMS_lumi.writeExtraText = True\n",
    "CMS_lumi.extraText = \"  Preliminary\"\n",
    "#CMS_lumi.lumi_sqrtS = \"22.1 fb^{-1}, 2023 (13.6 TeV)\" # used with iPeriod = 0, e.g. for simulation-only plots (default is an empty string)\n",
    "CMS_lumi.lumi_sqrtS = \"2024D (13.6 TeV)\" # used with iPeriod = 0, e.g. for simulation-only plots (default is an empty string)\n",
    "\n",
    "iPeriod = 0\n",
    "iPos = 0#11\n",
    "H_ref = 600; \n",
    "W_ref = 600; \n",
    "W = W_ref\n",
    "H = H_ref\n",
    "# references for T, B, L, R\n",
    "T = 0.08*H_ref\n",
    "B = 0.14*H_ref \n",
    "L = 0.12*W_ref\n",
    "R = 0.04*W_ref\n",
    "\n"
   ]
  },
  {
   "cell_type": "code",
   "execution_count": 51,
   "metadata": {},
   "outputs": [
    {
     "name": "stderr",
     "output_type": "stream",
     "text": [
      "Error in <TList::Clear>: A list is accessing an object (0x55a06a5da3c0) already deleted (list name = TList)\n",
      "Error in <TList::Clear>: A list is accessing an object (0x55a06a5da7d0) already deleted (list name = TList)\n",
      "Error in <TList::Clear>: A list is accessing an object (0x55a06a5dabe0) already deleted (list name = TList)\n",
      "Error in <TList::Clear>: A list is accessing an object (0x55a06a64bbc0) already deleted (list name = TList)\n"
     ]
    },
    {
     "data": {
      "image/png": "[encoded data removed]",
      "text/plain": [
       "<IPython.core.display.Image object>"
      ]
     },
     "metadata": {},
     "output_type": "display_data"
    }
   ],
   "source": [
    "#######################################\n",
    "#######################################\n",
    "\n",
    "CMS_lumi.lumi_sqrtS = \"24D (13.6 TeV)\" # used with iPeriod = 0, e.g. for simulation-only plots (default is an empty string)\n",
    "theVar = 'mjj'\n",
    "\n",
    "path = {}\n",
    "canvas = {}\n",
    "hpx = {}\n",
    "legend = {}\n",
    "#for theVar in ['mjj','detajj','MET']:\n",
    "text_coord = {\n",
    "    'mjj' :    [1200,0.04,2400,0.57],\n",
    "    'pt1' :    [100,0.1,240,0.7],\n",
    "    'pt2' :    [100,0.1,240,0.7],\n",
    "    'mjjraw' :    [1200,0.04,2400,0.57],\n",
    "    'pt1raw' :    [100,0.1,240,0.7],\n",
    "    'pt2raw' :    [100,0.1,240,0.7],\n",
    "    'detajj' : [4.1,0.07,7.95,0.6],\n",
    "    'met' :    [170,0.04,390,0.64],\n",
    "    'chf' :    [0.45,0.04,0.92,0.64]\n",
    "    \n",
    "}\n",
    "\n",
    "\n",
    "Eff['pre'][theVar]['new'].SetLineColor(46)\n",
    "Eff['pre'][theVar]['new'].SetMarkerColor(46)\n",
    "Eff['pre'][theVar]['new'].SetMarkerSize(2)\n",
    "Eff['pre'][theVar]['new'].SetLineWidth(3)\n",
    "Eff['pre'][theVar]['new'].SetMarkerStyle(23)   \n",
    "\n",
    "Eff['post'][theVar]['new'].SetLineColor(9)\n",
    "Eff['post'][theVar]['new'].SetMarkerColor(9)\n",
    "Eff['post'][theVar]['new'].SetMarkerSize(2)\n",
    "Eff['post'][theVar]['new'].SetLineWidth(3)\n",
    "Eff['post'][theVar]['new'].SetMarkerStyle(22)   \n",
    "\n",
    "path['pre'] = ROOT.TPaveText(text_coord[theVar][0],\n",
    "                              text_coord[theVar][1],\n",
    "                              text_coord[theVar][2],\n",
    "                              text_coord[theVar][3])\n",
    "\n",
    "path['pre'].SetTextAlign(12)\n",
    "path['pre'].SetFillStyle(0)\n",
    "path['pre'].SetBorderSize(0)\n",
    "\n",
    "#path['pre'].AddText('#geq 2 jets, #Delta#eta_{jj}>4.0')\n",
    "path['pre'].AddText('#geq 2 jets')\n",
    "path['pre'].AddText('p_{T1} > %.0f GeV, p_{T2} %.0f GeV ' % (pt1cut,pt2cut)) \n",
    "#path['pre'].AddText('m_{jj} > 1000 GeV ') \n",
    "path['pre'].AddText('MET(no #mu) > 120 GeV ') \n",
    "path['pre'].AddText(add_cut_label[theVar])\n",
    "\n",
    "#canvas['pre']=ROOT.TCanvas('pre',\"Trigger Efficicency\")\n",
    "canvas['pre']=ROOT.TCanvas('pre',\"Trigger Efficicency\",1280,1024)\n",
    "canvas['pre'].SetFillColor(0)\n",
    "canvas['pre'].SetBorderMode(0)\n",
    "canvas['pre'].SetFrameFillStyle(0)\n",
    "canvas['pre'].SetFrameBorderMode(0)\n",
    "canvas['pre'].SetLeftMargin( L/W )\n",
    "canvas['pre'].SetRightMargin( R/W )\n",
    "canvas['pre'].SetTopMargin( T/H )\n",
    "canvas['pre'].SetBottomMargin( B/H )\n",
    "canvas['pre'].SetTickx()\n",
    "canvas['pre'].SetTicky()\n",
    "#canvas['pre'].SetGrid()\n",
    "canvas['pre'].cd()\n",
    "\n",
    "#dummy hist for consistent display\n",
    "xlow=Eff['pre'][theVar]['new'].GetXaxis().GetBinLowEdge(0)\n",
    "xhigh=Eff['pre'][theVar]['new'].GetXaxis().GetBinUpEdge(92)\n",
    "hpx['pre'] = ROOT.TH2F(\"hpx\",\"\",10,xlow,xhigh,10,-0.02,1.2)\n",
    "hpx['pre'].SetStats(False)\n",
    "hpx['pre'].SetTitle(theVar)\n",
    "hpx['pre'].GetXaxis().SetTitle(VARLABELS[theVar])\n",
    "hpx['pre'].GetYaxis().SetTitle(\"Trigger Efficiency\")\n",
    "hpx['pre'].GetXaxis().SetTitleSize(0.055)\n",
    "hpx['pre'].GetXaxis().SetTitleOffset(1.1)\n",
    "hpx['pre'].GetYaxis().SetTitleSize(0.06)\n",
    "hpx['pre'].GetYaxis().SetTitleOffset(0.9)\n",
    "hpx['pre'].Draw()\n",
    "\n",
    "legend['pre'] = ROOT.TLegend(0.15,0.73,0.5,0.88) # top left\n",
    "legend['pre'].SetTextSize(0.04)\n",
    "legend['pre'].SetFillStyle(0)\n",
    "legend['pre'].SetBorderSize(0)\n",
    "legend['pre'].AddEntry(Eff['pre'][theVar]['new'],   'VBF + MET - fills 9611+9614',    'lp')\n",
    "legend['pre'].AddEntry(Eff['post'][theVar]['new'],  'VBF + MET - fill 9618','lp')\n",
    "\n",
    "path['pre'].SetTextSize(0.045);\n",
    "\n",
    "Eff['pre'][theVar]['new'].Draw(\"p same\")\n",
    "Eff['post'][theVar]['new'].Draw(\"p same\")\n",
    "\n",
    "legend['pre'].Draw(\"same\")\n",
    "path['pre'].Draw(\"same\")\n",
    "canvas['pre'].Update()\n",
    "CMS_lumi.CMS_lumi(canvas['pre'], iPeriod, iPos)\n",
    "\n",
    "redrawBorder()\n",
    "\n",
    "#canvas[theVar].Draw()\n",
    "canvas['pre'].Draw()\n",
    "\n",
    "canvas['pre'].SaveAs(dir_in + \"/plots/VBFmet_met_HEHF24D_{}.20240515.pdf\".format(theVar))\n",
    "canvas['pre'].SaveAs(dir_in + \"/plots/VBFmet_met_HEHF24D_{}.20240515.png\".format(theVar))\n",
    "canvas['pre'].SaveAs(dir_in + \"/plots/VBFmet_met_HEHF24D_{}.20240515.root\".format(theVar))\n"
   ]
  },
  {
   "cell_type": "code",
   "execution_count": 25,
   "metadata": {},
   "outputs": [
    {
     "name": "stdout",
     "output_type": "stream",
     "text": [
      "/grid_mnt/vol_home/llr/cms/portales/HIGtrigger/higgs-trigger-nanoaod/CMSSW_10_6_18/src/higgs-trigger-nano//plots/\n"
     ]
    }
   ],
   "source": [
    "print(dir_in+\"/plots/\")"
   ]
  },
  {
   "cell_type": "code",
   "execution_count": null,
   "metadata": {},
   "outputs": [],
   "source": []
  }
 ],
 "metadata": {
  "kernelspec": {
   "display_name": "MLenv",
   "language": "python",
   "name": "mlenv"
  },
  "language_info": {
   "codemirror_mode": {
    "name": "ipython",
    "version": 3
   },
   "file_extension": ".py",
   "mimetype": "text/x-python",
   "name": "python",
   "nbconvert_exporter": "python",
   "pygments_lexer": "ipython3",
   "version": "3.8.5"
  }
 },
 "nbformat": 4,
 "nbformat_minor": 2
}
